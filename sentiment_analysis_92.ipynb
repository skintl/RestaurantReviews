{
  "metadata": {
    "kernelspec": {
      "display_name": "Python 3",
      "language": "python",
      "name": "python3"
    },
    "language_info": {
      "codemirror_mode": {
        "name": "ipython",
        "version": 3
      },
      "file_extension": ".py",
      "mimetype": "text/x-python",
      "name": "python",
      "nbconvert_exporter": "python",
      "pygments_lexer": "ipython3",
      "version": "3.11.5"
    },
    "colab": {
      "provenance": [],
      "include_colab_link": true
    }
  },
  "nbformat_minor": 0,
  "nbformat": 4,
  "cells": [
    {
      "cell_type": "markdown",
      "metadata": {
        "id": "view-in-github",
        "colab_type": "text"
      },
      "source": [
        "<a href=\"https://colab.research.google.com/github/skintl/RestaurantReviews/blob/main/sentiment_analysis_92.ipynb\" target=\"_parent\"><img src=\"https://colab.research.google.com/assets/colab-badge.svg\" alt=\"Open In Colab\"/></a>"
      ]
    },
    {
      "cell_type": "code",
      "source": [
        "import pandas as pd\n",
        "import numpy as np\n",
        "\n",
        "from sklearn.preprocessing import MinMaxScaler"
      ],
      "metadata": {
        "execution": {
          "iopub.status.busy": "2023-10-25T00:58:31.648651Z",
          "iopub.execute_input": "2023-10-25T00:58:31.649181Z",
          "iopub.status.idle": "2023-10-25T00:58:32.560403Z",
          "shell.execute_reply.started": "2023-10-25T00:58:31.649132Z",
          "shell.execute_reply": "2023-10-25T00:58:32.559170Z"
        },
        "trusted": true,
        "id": "-d8CdNeJPZVm"
      },
      "execution_count": 1,
      "outputs": []
    },
    {
      "cell_type": "code",
      "source": [
        "df = pd.read_csv(\"/content/Restaurantreviews.csv\")\n",
        "df.head()"
      ],
      "metadata": {
        "execution": {
          "iopub.status.busy": "2023-10-25T00:58:32.562699Z",
          "iopub.execute_input": "2023-10-25T00:58:32.563206Z",
          "iopub.status.idle": "2023-10-25T00:58:32.720243Z",
          "shell.execute_reply.started": "2023-10-25T00:58:32.563176Z",
          "shell.execute_reply": "2023-10-25T00:58:32.719201Z"
        },
        "trusted": true,
        "colab": {
          "base_uri": "https://localhost:8080/",
          "height": 310
        },
        "id": "LyAPrGKZPZVt",
        "outputId": "5ef61744-990d-41a7-e27c-8f40cd60847d"
      },
      "execution_count": 6,
      "outputs": [
        {
          "output_type": "execute_result",
          "data": {
            "text/plain": [
              "        Restaurant              Reviewer  \\\n",
              "0  Beyond Flavours     Rusha Chakraborty   \n",
              "1  Beyond Flavours  Anusha Tirumalaneedi   \n",
              "2  Beyond Flavours       Ashok Shekhawat   \n",
              "3  Beyond Flavours        Swapnil Sarkar   \n",
              "4  Beyond Flavours                Dileep   \n",
              "\n",
              "                                              Review Rating  \\\n",
              "0  The ambience was good, food was quite good . h...      5   \n",
              "1  Ambience is too good for a pleasant evening. S...      5   \n",
              "2  A must try.. great food great ambience. Thnx f...      5   \n",
              "3  Soumen das and Arun was a great guy. Only beca...      5   \n",
              "4  Food is good.we ordered Kodi drumsticks and ba...      5   \n",
              "\n",
              "                  Metadata             Time  Pictures    7514  \n",
              "0   1 Review , 2 Followers  5/25/2019 15:54         0  2447.0  \n",
              "1  3 Reviews , 2 Followers  5/25/2019 14:20         0     NaN  \n",
              "2  2 Reviews , 3 Followers  5/24/2019 22:54         0     NaN  \n",
              "3    1 Review , 1 Follower  5/24/2019 22:11         0     NaN  \n",
              "4  3 Reviews , 2 Followers  5/24/2019 21:37         0     NaN  "
            ],
            "text/html": [
              "\n",
              "  <div id=\"df-ab3345f8-3759-47c9-97fd-edcfcf45f1b8\" class=\"colab-df-container\">\n",
              "    <div>\n",
              "<style scoped>\n",
              "    .dataframe tbody tr th:only-of-type {\n",
              "        vertical-align: middle;\n",
              "    }\n",
              "\n",
              "    .dataframe tbody tr th {\n",
              "        vertical-align: top;\n",
              "    }\n",
              "\n",
              "    .dataframe thead th {\n",
              "        text-align: right;\n",
              "    }\n",
              "</style>\n",
              "<table border=\"1\" class=\"dataframe\">\n",
              "  <thead>\n",
              "    <tr style=\"text-align: right;\">\n",
              "      <th></th>\n",
              "      <th>Restaurant</th>\n",
              "      <th>Reviewer</th>\n",
              "      <th>Review</th>\n",
              "      <th>Rating</th>\n",
              "      <th>Metadata</th>\n",
              "      <th>Time</th>\n",
              "      <th>Pictures</th>\n",
              "      <th>7514</th>\n",
              "    </tr>\n",
              "  </thead>\n",
              "  <tbody>\n",
              "    <tr>\n",
              "      <th>0</th>\n",
              "      <td>Beyond Flavours</td>\n",
              "      <td>Rusha Chakraborty</td>\n",
              "      <td>The ambience was good, food was quite good . h...</td>\n",
              "      <td>5</td>\n",
              "      <td>1 Review , 2 Followers</td>\n",
              "      <td>5/25/2019 15:54</td>\n",
              "      <td>0</td>\n",
              "      <td>2447.0</td>\n",
              "    </tr>\n",
              "    <tr>\n",
              "      <th>1</th>\n",
              "      <td>Beyond Flavours</td>\n",
              "      <td>Anusha Tirumalaneedi</td>\n",
              "      <td>Ambience is too good for a pleasant evening. S...</td>\n",
              "      <td>5</td>\n",
              "      <td>3 Reviews , 2 Followers</td>\n",
              "      <td>5/25/2019 14:20</td>\n",
              "      <td>0</td>\n",
              "      <td>NaN</td>\n",
              "    </tr>\n",
              "    <tr>\n",
              "      <th>2</th>\n",
              "      <td>Beyond Flavours</td>\n",
              "      <td>Ashok Shekhawat</td>\n",
              "      <td>A must try.. great food great ambience. Thnx f...</td>\n",
              "      <td>5</td>\n",
              "      <td>2 Reviews , 3 Followers</td>\n",
              "      <td>5/24/2019 22:54</td>\n",
              "      <td>0</td>\n",
              "      <td>NaN</td>\n",
              "    </tr>\n",
              "    <tr>\n",
              "      <th>3</th>\n",
              "      <td>Beyond Flavours</td>\n",
              "      <td>Swapnil Sarkar</td>\n",
              "      <td>Soumen das and Arun was a great guy. Only beca...</td>\n",
              "      <td>5</td>\n",
              "      <td>1 Review , 1 Follower</td>\n",
              "      <td>5/24/2019 22:11</td>\n",
              "      <td>0</td>\n",
              "      <td>NaN</td>\n",
              "    </tr>\n",
              "    <tr>\n",
              "      <th>4</th>\n",
              "      <td>Beyond Flavours</td>\n",
              "      <td>Dileep</td>\n",
              "      <td>Food is good.we ordered Kodi drumsticks and ba...</td>\n",
              "      <td>5</td>\n",
              "      <td>3 Reviews , 2 Followers</td>\n",
              "      <td>5/24/2019 21:37</td>\n",
              "      <td>0</td>\n",
              "      <td>NaN</td>\n",
              "    </tr>\n",
              "  </tbody>\n",
              "</table>\n",
              "</div>\n",
              "    <div class=\"colab-df-buttons\">\n",
              "\n",
              "  <div class=\"colab-df-container\">\n",
              "    <button class=\"colab-df-convert\" onclick=\"convertToInteractive('df-ab3345f8-3759-47c9-97fd-edcfcf45f1b8')\"\n",
              "            title=\"Convert this dataframe to an interactive table.\"\n",
              "            style=\"display:none;\">\n",
              "\n",
              "  <svg xmlns=\"http://www.w3.org/2000/svg\" height=\"24px\" viewBox=\"0 -960 960 960\">\n",
              "    <path d=\"M120-120v-720h720v720H120Zm60-500h600v-160H180v160Zm220 220h160v-160H400v160Zm0 220h160v-160H400v160ZM180-400h160v-160H180v160Zm440 0h160v-160H620v160ZM180-180h160v-160H180v160Zm440 0h160v-160H620v160Z\"/>\n",
              "  </svg>\n",
              "    </button>\n",
              "\n",
              "  <style>\n",
              "    .colab-df-container {\n",
              "      display:flex;\n",
              "      gap: 12px;\n",
              "    }\n",
              "\n",
              "    .colab-df-convert {\n",
              "      background-color: #E8F0FE;\n",
              "      border: none;\n",
              "      border-radius: 50%;\n",
              "      cursor: pointer;\n",
              "      display: none;\n",
              "      fill: #1967D2;\n",
              "      height: 32px;\n",
              "      padding: 0 0 0 0;\n",
              "      width: 32px;\n",
              "    }\n",
              "\n",
              "    .colab-df-convert:hover {\n",
              "      background-color: #E2EBFA;\n",
              "      box-shadow: 0px 1px 2px rgba(60, 64, 67, 0.3), 0px 1px 3px 1px rgba(60, 64, 67, 0.15);\n",
              "      fill: #174EA6;\n",
              "    }\n",
              "\n",
              "    .colab-df-buttons div {\n",
              "      margin-bottom: 4px;\n",
              "    }\n",
              "\n",
              "    [theme=dark] .colab-df-convert {\n",
              "      background-color: #3B4455;\n",
              "      fill: #D2E3FC;\n",
              "    }\n",
              "\n",
              "    [theme=dark] .colab-df-convert:hover {\n",
              "      background-color: #434B5C;\n",
              "      box-shadow: 0px 1px 3px 1px rgba(0, 0, 0, 0.15);\n",
              "      filter: drop-shadow(0px 1px 2px rgba(0, 0, 0, 0.3));\n",
              "      fill: #FFFFFF;\n",
              "    }\n",
              "  </style>\n",
              "\n",
              "    <script>\n",
              "      const buttonEl =\n",
              "        document.querySelector('#df-ab3345f8-3759-47c9-97fd-edcfcf45f1b8 button.colab-df-convert');\n",
              "      buttonEl.style.display =\n",
              "        google.colab.kernel.accessAllowed ? 'block' : 'none';\n",
              "\n",
              "      async function convertToInteractive(key) {\n",
              "        const element = document.querySelector('#df-ab3345f8-3759-47c9-97fd-edcfcf45f1b8');\n",
              "        const dataTable =\n",
              "          await google.colab.kernel.invokeFunction('convertToInteractive',\n",
              "                                                    [key], {});\n",
              "        if (!dataTable) return;\n",
              "\n",
              "        const docLinkHtml = 'Like what you see? Visit the ' +\n",
              "          '<a target=\"_blank\" href=https://colab.research.google.com/notebooks/data_table.ipynb>data table notebook</a>'\n",
              "          + ' to learn more about interactive tables.';\n",
              "        element.innerHTML = '';\n",
              "        dataTable['output_type'] = 'display_data';\n",
              "        await google.colab.output.renderOutput(dataTable, element);\n",
              "        const docLink = document.createElement('div');\n",
              "        docLink.innerHTML = docLinkHtml;\n",
              "        element.appendChild(docLink);\n",
              "      }\n",
              "    </script>\n",
              "  </div>\n",
              "\n",
              "\n",
              "<div id=\"df-c6953dc0-c138-4f60-bd57-54cdcbac81c6\">\n",
              "  <button class=\"colab-df-quickchart\" onclick=\"quickchart('df-c6953dc0-c138-4f60-bd57-54cdcbac81c6')\"\n",
              "            title=\"Suggest charts.\"\n",
              "            style=\"display:none;\">\n",
              "\n",
              "<svg xmlns=\"http://www.w3.org/2000/svg\" height=\"24px\"viewBox=\"0 0 24 24\"\n",
              "     width=\"24px\">\n",
              "    <g>\n",
              "        <path d=\"M19 3H5c-1.1 0-2 .9-2 2v14c0 1.1.9 2 2 2h14c1.1 0 2-.9 2-2V5c0-1.1-.9-2-2-2zM9 17H7v-7h2v7zm4 0h-2V7h2v10zm4 0h-2v-4h2v4z\"/>\n",
              "    </g>\n",
              "</svg>\n",
              "  </button>\n",
              "\n",
              "<style>\n",
              "  .colab-df-quickchart {\n",
              "      --bg-color: #E8F0FE;\n",
              "      --fill-color: #1967D2;\n",
              "      --hover-bg-color: #E2EBFA;\n",
              "      --hover-fill-color: #174EA6;\n",
              "      --disabled-fill-color: #AAA;\n",
              "      --disabled-bg-color: #DDD;\n",
              "  }\n",
              "\n",
              "  [theme=dark] .colab-df-quickchart {\n",
              "      --bg-color: #3B4455;\n",
              "      --fill-color: #D2E3FC;\n",
              "      --hover-bg-color: #434B5C;\n",
              "      --hover-fill-color: #FFFFFF;\n",
              "      --disabled-bg-color: #3B4455;\n",
              "      --disabled-fill-color: #666;\n",
              "  }\n",
              "\n",
              "  .colab-df-quickchart {\n",
              "    background-color: var(--bg-color);\n",
              "    border: none;\n",
              "    border-radius: 50%;\n",
              "    cursor: pointer;\n",
              "    display: none;\n",
              "    fill: var(--fill-color);\n",
              "    height: 32px;\n",
              "    padding: 0;\n",
              "    width: 32px;\n",
              "  }\n",
              "\n",
              "  .colab-df-quickchart:hover {\n",
              "    background-color: var(--hover-bg-color);\n",
              "    box-shadow: 0 1px 2px rgba(60, 64, 67, 0.3), 0 1px 3px 1px rgba(60, 64, 67, 0.15);\n",
              "    fill: var(--button-hover-fill-color);\n",
              "  }\n",
              "\n",
              "  .colab-df-quickchart-complete:disabled,\n",
              "  .colab-df-quickchart-complete:disabled:hover {\n",
              "    background-color: var(--disabled-bg-color);\n",
              "    fill: var(--disabled-fill-color);\n",
              "    box-shadow: none;\n",
              "  }\n",
              "\n",
              "  .colab-df-spinner {\n",
              "    border: 2px solid var(--fill-color);\n",
              "    border-color: transparent;\n",
              "    border-bottom-color: var(--fill-color);\n",
              "    animation:\n",
              "      spin 1s steps(1) infinite;\n",
              "  }\n",
              "\n",
              "  @keyframes spin {\n",
              "    0% {\n",
              "      border-color: transparent;\n",
              "      border-bottom-color: var(--fill-color);\n",
              "      border-left-color: var(--fill-color);\n",
              "    }\n",
              "    20% {\n",
              "      border-color: transparent;\n",
              "      border-left-color: var(--fill-color);\n",
              "      border-top-color: var(--fill-color);\n",
              "    }\n",
              "    30% {\n",
              "      border-color: transparent;\n",
              "      border-left-color: var(--fill-color);\n",
              "      border-top-color: var(--fill-color);\n",
              "      border-right-color: var(--fill-color);\n",
              "    }\n",
              "    40% {\n",
              "      border-color: transparent;\n",
              "      border-right-color: var(--fill-color);\n",
              "      border-top-color: var(--fill-color);\n",
              "    }\n",
              "    60% {\n",
              "      border-color: transparent;\n",
              "      border-right-color: var(--fill-color);\n",
              "    }\n",
              "    80% {\n",
              "      border-color: transparent;\n",
              "      border-right-color: var(--fill-color);\n",
              "      border-bottom-color: var(--fill-color);\n",
              "    }\n",
              "    90% {\n",
              "      border-color: transparent;\n",
              "      border-bottom-color: var(--fill-color);\n",
              "    }\n",
              "  }\n",
              "</style>\n",
              "\n",
              "  <script>\n",
              "    async function quickchart(key) {\n",
              "      const quickchartButtonEl =\n",
              "        document.querySelector('#' + key + ' button');\n",
              "      quickchartButtonEl.disabled = true;  // To prevent multiple clicks.\n",
              "      quickchartButtonEl.classList.add('colab-df-spinner');\n",
              "      try {\n",
              "        const charts = await google.colab.kernel.invokeFunction(\n",
              "            'suggestCharts', [key], {});\n",
              "      } catch (error) {\n",
              "        console.error('Error during call to suggestCharts:', error);\n",
              "      }\n",
              "      quickchartButtonEl.classList.remove('colab-df-spinner');\n",
              "      quickchartButtonEl.classList.add('colab-df-quickchart-complete');\n",
              "    }\n",
              "    (() => {\n",
              "      let quickchartButtonEl =\n",
              "        document.querySelector('#df-c6953dc0-c138-4f60-bd57-54cdcbac81c6 button');\n",
              "      quickchartButtonEl.style.display =\n",
              "        google.colab.kernel.accessAllowed ? 'block' : 'none';\n",
              "    })();\n",
              "  </script>\n",
              "</div>\n",
              "    </div>\n",
              "  </div>\n"
            ]
          },
          "metadata": {},
          "execution_count": 6
        }
      ]
    },
    {
      "cell_type": "markdown",
      "source": [
        "# Data Cleaning"
      ],
      "metadata": {
        "id": "y3ZqFcotPZVv"
      }
    },
    {
      "cell_type": "code",
      "source": [
        "df = df.drop([\"Restaurant\", \"Reviewer\", \"Metadata\", \"Pictures\" ,\"7514\"], axis=1)"
      ],
      "metadata": {
        "execution": {
          "iopub.status.busy": "2023-10-25T00:58:32.721564Z",
          "iopub.execute_input": "2023-10-25T00:58:32.721910Z",
          "iopub.status.idle": "2023-10-25T00:58:32.732451Z",
          "shell.execute_reply.started": "2023-10-25T00:58:32.721881Z",
          "shell.execute_reply": "2023-10-25T00:58:32.731358Z"
        },
        "trusted": true,
        "id": "I5RLgc2kPZVy"
      },
      "execution_count": 7,
      "outputs": []
    },
    {
      "cell_type": "code",
      "source": [
        "df[\"Time\"] = list(map(lambda data: str(data).split()[0], df[\"Time\"]))\n",
        "df[\"Time\"] = list(map(lambda data: str(data).split(\"/\")[-1], df[\"Time\"]))"
      ],
      "metadata": {
        "execution": {
          "iopub.status.busy": "2023-10-25T00:58:32.734940Z",
          "iopub.execute_input": "2023-10-25T00:58:32.735275Z",
          "iopub.status.idle": "2023-10-25T00:58:32.759034Z",
          "shell.execute_reply.started": "2023-10-25T00:58:32.735247Z",
          "shell.execute_reply": "2023-10-25T00:58:32.757751Z"
        },
        "trusted": true,
        "id": "0FxgV8dYPZVz"
      },
      "execution_count": 9,
      "outputs": []
    },
    {
      "cell_type": "code",
      "source": [
        "df[\"Rating\"].unique()"
      ],
      "metadata": {
        "execution": {
          "iopub.status.busy": "2023-10-25T00:58:32.760658Z",
          "iopub.execute_input": "2023-10-25T00:58:32.761108Z",
          "iopub.status.idle": "2023-10-25T00:58:32.775877Z",
          "shell.execute_reply.started": "2023-10-25T00:58:32.761071Z",
          "shell.execute_reply": "2023-10-25T00:58:32.774737Z"
        },
        "trusted": true,
        "colab": {
          "base_uri": "https://localhost:8080/"
        },
        "id": "iJaE06ZnPZV1",
        "outputId": "4c032db4-20ee-4681-bd63-74856b7dd8dc"
      },
      "execution_count": 10,
      "outputs": [
        {
          "output_type": "execute_result",
          "data": {
            "text/plain": [
              "array(['5', '4', '1', '3', '2', '3.5', '4.5', '2.5', '1.5', 'Like', nan],\n",
              "      dtype=object)"
            ]
          },
          "metadata": {},
          "execution_count": 10
        }
      ]
    },
    {
      "cell_type": "code",
      "source": [
        "df[\"Rating\"].isnull().sum()"
      ],
      "metadata": {
        "execution": {
          "iopub.status.busy": "2023-10-25T00:58:32.778117Z",
          "iopub.execute_input": "2023-10-25T00:58:32.778851Z",
          "iopub.status.idle": "2023-10-25T00:58:32.788481Z",
          "shell.execute_reply.started": "2023-10-25T00:58:32.778813Z",
          "shell.execute_reply": "2023-10-25T00:58:32.787355Z"
        },
        "trusted": true,
        "colab": {
          "base_uri": "https://localhost:8080/"
        },
        "id": "dkZEnDOWPZV3",
        "outputId": "7d56b73d-64b8-478c-8ee5-23461275d8b5"
      },
      "execution_count": 11,
      "outputs": [
        {
          "output_type": "execute_result",
          "data": {
            "text/plain": [
              "38"
            ]
          },
          "metadata": {},
          "execution_count": 11
        }
      ]
    },
    {
      "cell_type": "code",
      "source": [
        "df['Rating'].value_counts().idxmax()"
      ],
      "metadata": {
        "execution": {
          "iopub.status.busy": "2023-10-25T00:58:32.790300Z",
          "iopub.execute_input": "2023-10-25T00:58:32.791119Z",
          "iopub.status.idle": "2023-10-25T00:58:32.804558Z",
          "shell.execute_reply.started": "2023-10-25T00:58:32.791083Z",
          "shell.execute_reply": "2023-10-25T00:58:32.803769Z"
        },
        "trusted": true,
        "id": "E_6UgVGSPZV4",
        "outputId": "6f597fc3-8cef-4f29-aab6-09f83c17e5d5"
      },
      "execution_count": null,
      "outputs": [
        {
          "execution_count": 7,
          "output_type": "execute_result",
          "data": {
            "text/plain": "'5'"
          },
          "metadata": {}
        }
      ]
    },
    {
      "cell_type": "code",
      "source": [
        "df['Rating'] = np.where(df[\"Rating\"] == \"Like\", df['Rating'].value_counts().idxmax(), df['Rating'])"
      ],
      "metadata": {
        "execution": {
          "iopub.status.busy": "2023-10-25T00:58:32.807272Z",
          "iopub.execute_input": "2023-10-25T00:58:32.808174Z",
          "iopub.status.idle": "2023-10-25T00:58:32.816956Z",
          "shell.execute_reply.started": "2023-10-25T00:58:32.808145Z",
          "shell.execute_reply": "2023-10-25T00:58:32.816104Z"
        },
        "trusted": true,
        "id": "ZGHymhlvPZV5"
      },
      "execution_count": null,
      "outputs": []
    },
    {
      "cell_type": "code",
      "source": [
        "df[\"Rating\"].unique()"
      ],
      "metadata": {
        "execution": {
          "iopub.status.busy": "2023-10-25T00:58:32.818541Z",
          "iopub.execute_input": "2023-10-25T00:58:32.818972Z",
          "iopub.status.idle": "2023-10-25T00:58:32.831502Z",
          "shell.execute_reply.started": "2023-10-25T00:58:32.818934Z",
          "shell.execute_reply": "2023-10-25T00:58:32.830295Z"
        },
        "trusted": true,
        "id": "w8LFGfAYPZV6",
        "outputId": "2ff37e45-5503-4103-96b2-3e386e158be3"
      },
      "execution_count": null,
      "outputs": [
        {
          "execution_count": 9,
          "output_type": "execute_result",
          "data": {
            "text/plain": "array(['5', '4', '1', '3', '2', '3.5', '4.5', '2.5', '1.5', nan],\n      dtype=object)"
          },
          "metadata": {}
        }
      ]
    },
    {
      "cell_type": "code",
      "source": [
        "df[\"Rating\"] = list(map(lambda data: float(data) >= 3, df[\"Rating\"]))"
      ],
      "metadata": {
        "execution": {
          "iopub.status.busy": "2023-10-25T00:58:32.837334Z",
          "iopub.execute_input": "2023-10-25T00:58:32.837642Z",
          "iopub.status.idle": "2023-10-25T00:58:32.854473Z",
          "shell.execute_reply.started": "2023-10-25T00:58:32.837606Z",
          "shell.execute_reply": "2023-10-25T00:58:32.853181Z"
        },
        "trusted": true,
        "id": "DbsSkhlNPZV7"
      },
      "execution_count": null,
      "outputs": []
    },
    {
      "cell_type": "code",
      "source": [
        "df[\"Rating\"].unique()"
      ],
      "metadata": {
        "execution": {
          "iopub.status.busy": "2023-10-25T00:58:32.856106Z",
          "iopub.execute_input": "2023-10-25T00:58:32.857071Z",
          "iopub.status.idle": "2023-10-25T00:58:32.870975Z",
          "shell.execute_reply.started": "2023-10-25T00:58:32.857029Z",
          "shell.execute_reply": "2023-10-25T00:58:32.870127Z"
        },
        "trusted": true,
        "id": "CBcnFUwKPZV7",
        "outputId": "1f686a2c-100e-4e91-c60e-c8ce356ae7c4"
      },
      "execution_count": null,
      "outputs": [
        {
          "execution_count": 11,
          "output_type": "execute_result",
          "data": {
            "text/plain": "array([ True, False])"
          },
          "metadata": {}
        }
      ]
    },
    {
      "cell_type": "code",
      "source": [
        "df[\"Time\"].unique()"
      ],
      "metadata": {
        "execution": {
          "iopub.status.busy": "2023-10-25T00:58:32.872052Z",
          "iopub.execute_input": "2023-10-25T00:58:32.872846Z",
          "iopub.status.idle": "2023-10-25T00:58:32.889986Z",
          "shell.execute_reply.started": "2023-10-25T00:58:32.872812Z",
          "shell.execute_reply": "2023-10-25T00:58:32.889233Z"
        },
        "trusted": true,
        "id": "8fl5us8HPZV8",
        "outputId": "f3919e9b-b53e-4b92-8e79-056b9dc8243d"
      },
      "execution_count": null,
      "outputs": [
        {
          "execution_count": 12,
          "output_type": "execute_result",
          "data": {
            "text/plain": "array(['2019', '2018', '2017', '2016', 'nan'], dtype=object)"
          },
          "metadata": {}
        }
      ]
    },
    {
      "cell_type": "code",
      "source": [
        "df['Time'] = np.where(df[\"Time\"] == \"nan\", df['Time'].value_counts().idxmax(), df['Time'])"
      ],
      "metadata": {
        "execution": {
          "iopub.status.busy": "2023-10-25T00:58:32.891269Z",
          "iopub.execute_input": "2023-10-25T00:58:32.891823Z",
          "iopub.status.idle": "2023-10-25T00:58:32.903142Z",
          "shell.execute_reply.started": "2023-10-25T00:58:32.891794Z",
          "shell.execute_reply": "2023-10-25T00:58:32.902225Z"
        },
        "trusted": true,
        "id": "GlbCVgjYPZV9"
      },
      "execution_count": null,
      "outputs": []
    },
    {
      "cell_type": "code",
      "source": [
        "df[\"Time\"].unique()"
      ],
      "metadata": {
        "execution": {
          "iopub.status.busy": "2023-10-25T00:58:32.904659Z",
          "iopub.execute_input": "2023-10-25T00:58:32.905480Z",
          "iopub.status.idle": "2023-10-25T00:58:32.914132Z",
          "shell.execute_reply.started": "2023-10-25T00:58:32.905436Z",
          "shell.execute_reply": "2023-10-25T00:58:32.913138Z"
        },
        "trusted": true,
        "id": "ToVdELrxPZV9",
        "outputId": "d5443eaa-d5e4-41e0-b435-a0326e5a9ce5"
      },
      "execution_count": null,
      "outputs": [
        {
          "execution_count": 14,
          "output_type": "execute_result",
          "data": {
            "text/plain": "array(['2019', '2018', '2017', '2016'], dtype=object)"
          },
          "metadata": {}
        }
      ]
    },
    {
      "cell_type": "code",
      "source": [
        "mmsTime = MinMaxScaler()\n",
        "\n",
        "mmsTime.fit(df[[\"Time\"]])\n",
        "df[\"Time\"] = mmsTime.transform(df[[\"Time\"]])"
      ],
      "metadata": {
        "execution": {
          "iopub.status.busy": "2023-10-25T00:58:32.915323Z",
          "iopub.execute_input": "2023-10-25T00:58:32.916128Z",
          "iopub.status.idle": "2023-10-25T00:58:32.933956Z",
          "shell.execute_reply.started": "2023-10-25T00:58:32.916084Z",
          "shell.execute_reply": "2023-10-25T00:58:32.932851Z"
        },
        "trusted": true,
        "id": "H09NZW-RPZV-"
      },
      "execution_count": null,
      "outputs": []
    },
    {
      "cell_type": "code",
      "source": [
        "df[\"Time\"].unique()"
      ],
      "metadata": {
        "execution": {
          "iopub.status.busy": "2023-10-25T00:58:32.935311Z",
          "iopub.execute_input": "2023-10-25T00:58:32.936391Z",
          "iopub.status.idle": "2023-10-25T00:58:32.947987Z",
          "shell.execute_reply.started": "2023-10-25T00:58:32.936361Z",
          "shell.execute_reply": "2023-10-25T00:58:32.946764Z"
        },
        "trusted": true,
        "id": "wupvnY7bPZV-",
        "outputId": "96e979b7-ad13-4b4f-dd74-d609a557e0cd"
      },
      "execution_count": null,
      "outputs": [
        {
          "execution_count": 16,
          "output_type": "execute_result",
          "data": {
            "text/plain": "array([1.        , 0.66666667, 0.33333333, 0.        ])"
          },
          "metadata": {}
        }
      ]
    },
    {
      "cell_type": "code",
      "source": [
        "df"
      ],
      "metadata": {
        "execution": {
          "iopub.status.busy": "2023-10-25T00:58:32.949094Z",
          "iopub.execute_input": "2023-10-25T00:58:32.950057Z",
          "iopub.status.idle": "2023-10-25T00:58:32.972778Z",
          "shell.execute_reply.started": "2023-10-25T00:58:32.950028Z",
          "shell.execute_reply": "2023-10-25T00:58:32.971571Z"
        },
        "trusted": true,
        "id": "JgRPykE0PZV_",
        "outputId": "45a5b658-5ecc-4d79-efb2-3fa1f146f9a8"
      },
      "execution_count": null,
      "outputs": [
        {
          "execution_count": 17,
          "output_type": "execute_result",
          "data": {
            "text/plain": "                                                 Review  Rating  Time\n0     The ambience was good, food was quite good . h...    True   1.0\n1     Ambience is too good for a pleasant evening. S...    True   1.0\n2     A must try.. great food great ambience. Thnx f...    True   1.0\n3     Soumen das and Arun was a great guy. Only beca...    True   1.0\n4     Food is good.we ordered Kodi drumsticks and ba...    True   1.0\n...                                                 ...     ...   ...\n9995  Madhumathi Mahajan Well to start with nice cou...    True   0.0\n9996  This place has never disappointed us.. The foo...    True   0.0\n9997  Bad rating is mainly because of \"Chicken Bone ...   False   0.0\n9998  I personally love and prefer Chinese Food. Had...    True   0.0\n9999  Checked in here to try some delicious chinese ...    True   0.0\n\n[10000 rows x 3 columns]",
            "text/html": "<div>\n<style scoped>\n    .dataframe tbody tr th:only-of-type {\n        vertical-align: middle;\n    }\n\n    .dataframe tbody tr th {\n        vertical-align: top;\n    }\n\n    .dataframe thead th {\n        text-align: right;\n    }\n</style>\n<table border=\"1\" class=\"dataframe\">\n  <thead>\n    <tr style=\"text-align: right;\">\n      <th></th>\n      <th>Review</th>\n      <th>Rating</th>\n      <th>Time</th>\n    </tr>\n  </thead>\n  <tbody>\n    <tr>\n      <th>0</th>\n      <td>The ambience was good, food was quite good . h...</td>\n      <td>True</td>\n      <td>1.0</td>\n    </tr>\n    <tr>\n      <th>1</th>\n      <td>Ambience is too good for a pleasant evening. S...</td>\n      <td>True</td>\n      <td>1.0</td>\n    </tr>\n    <tr>\n      <th>2</th>\n      <td>A must try.. great food great ambience. Thnx f...</td>\n      <td>True</td>\n      <td>1.0</td>\n    </tr>\n    <tr>\n      <th>3</th>\n      <td>Soumen das and Arun was a great guy. Only beca...</td>\n      <td>True</td>\n      <td>1.0</td>\n    </tr>\n    <tr>\n      <th>4</th>\n      <td>Food is good.we ordered Kodi drumsticks and ba...</td>\n      <td>True</td>\n      <td>1.0</td>\n    </tr>\n    <tr>\n      <th>...</th>\n      <td>...</td>\n      <td>...</td>\n      <td>...</td>\n    </tr>\n    <tr>\n      <th>9995</th>\n      <td>Madhumathi Mahajan Well to start with nice cou...</td>\n      <td>True</td>\n      <td>0.0</td>\n    </tr>\n    <tr>\n      <th>9996</th>\n      <td>This place has never disappointed us.. The foo...</td>\n      <td>True</td>\n      <td>0.0</td>\n    </tr>\n    <tr>\n      <th>9997</th>\n      <td>Bad rating is mainly because of \"Chicken Bone ...</td>\n      <td>False</td>\n      <td>0.0</td>\n    </tr>\n    <tr>\n      <th>9998</th>\n      <td>I personally love and prefer Chinese Food. Had...</td>\n      <td>True</td>\n      <td>0.0</td>\n    </tr>\n    <tr>\n      <th>9999</th>\n      <td>Checked in here to try some delicious chinese ...</td>\n      <td>True</td>\n      <td>0.0</td>\n    </tr>\n  </tbody>\n</table>\n<p>10000 rows × 3 columns</p>\n</div>"
          },
          "metadata": {}
        }
      ]
    },
    {
      "cell_type": "code",
      "source": [
        "df[\"Review\"] = df[\"Review\"].fillna(\"Nothing\")"
      ],
      "metadata": {
        "execution": {
          "iopub.status.busy": "2023-10-25T00:58:32.973977Z",
          "iopub.execute_input": "2023-10-25T00:58:32.974817Z",
          "iopub.status.idle": "2023-10-25T00:58:32.985272Z",
          "shell.execute_reply.started": "2023-10-25T00:58:32.974770Z",
          "shell.execute_reply": "2023-10-25T00:58:32.984175Z"
        },
        "trusted": true,
        "id": "uBMT0hI-PZV_"
      },
      "execution_count": null,
      "outputs": []
    },
    {
      "cell_type": "markdown",
      "source": [
        "# NLP"
      ],
      "metadata": {
        "id": "0fTZKY1NPZWA"
      }
    },
    {
      "cell_type": "code",
      "source": [
        "from nltk.tokenize import word_tokenize\n",
        "from nltk.stem import PorterStemmer\n",
        "from nltk.corpus import stopwords\n",
        "import re\n",
        "from sklearn.model_selection import train_test_split\n",
        "from sklearn.ensemble import RandomForestClassifier\n",
        "from sklearn.metrics import accuracy_score\n",
        "\n",
        "ps = PorterStemmer()"
      ],
      "metadata": {
        "execution": {
          "iopub.status.busy": "2023-10-25T00:58:32.986601Z",
          "iopub.execute_input": "2023-10-25T00:58:32.987852Z",
          "iopub.status.idle": "2023-10-25T00:58:33.985140Z",
          "shell.execute_reply.started": "2023-10-25T00:58:32.987813Z",
          "shell.execute_reply": "2023-10-25T00:58:33.983961Z"
        },
        "trusted": true,
        "id": "6ad20IPTPZWA"
      },
      "execution_count": null,
      "outputs": []
    },
    {
      "cell_type": "code",
      "source": [
        "reviewList = list(map(lambda data: word_tokenize(data), df[\"Review\"]))"
      ],
      "metadata": {
        "execution": {
          "iopub.status.busy": "2023-10-25T00:58:33.986463Z",
          "iopub.execute_input": "2023-10-25T00:58:33.986879Z",
          "iopub.status.idle": "2023-10-25T00:58:42.779072Z",
          "shell.execute_reply.started": "2023-10-25T00:58:33.986841Z",
          "shell.execute_reply": "2023-10-25T00:58:42.778145Z"
        },
        "trusted": true,
        "id": "Tdp_ya-4PZWB"
      },
      "execution_count": null,
      "outputs": []
    },
    {
      "cell_type": "code",
      "source": [
        "for index, word_list in enumerate(reviewList):\n",
        "    reviewList[index] = \" \".join([ps.stem(str(word)) for word in word_list if not word in stopwords.words(\"english\") and word not in [\".\", \",\", \"?\", \"@\", \"$\", \"/\"] and not word.isspace()])"
      ],
      "metadata": {
        "execution": {
          "iopub.status.busy": "2023-10-25T00:58:42.780457Z",
          "iopub.execute_input": "2023-10-25T00:58:42.780892Z",
          "iopub.status.idle": "2023-10-25T01:00:08.223032Z",
          "shell.execute_reply.started": "2023-10-25T00:58:42.780850Z",
          "shell.execute_reply": "2023-10-25T01:00:08.222051Z"
        },
        "trusted": true,
        "id": "M-s5NJIYPZWB"
      },
      "execution_count": null,
      "outputs": []
    },
    {
      "cell_type": "code",
      "source": [
        "emoji_pattern = re.compile(\"[\"\n",
        "        u\"\\U0001F600-\\U0001F64F\"\n",
        "        u\"\\U0001F300-\\U0001F5FF\"\n",
        "        u\"\\U0001F680-\\U0001F6FF\"\n",
        "        u\"\\U0001F1E0-\\U0001F1FF\"\n",
        "        u\"\\U00002500-\\U00002BEF\"\n",
        "        u\"\\U00002702-\\U000027B0\"\n",
        "        u\"\\U000024C2-\\U0001F251\"\n",
        "        u\"\\U0001f926-\\U0001f937\"\n",
        "        u\"\\U00010000-\\U0010ffff\"\n",
        "        u\"\\u2640-\\u2642\"\n",
        "        u\"\\u2600-\\u2B55\"\n",
        "        u\"\\u200d\"\n",
        "        u\"\\u23cf\"\n",
        "        u\"\\u23e9\"\n",
        "        u\"\\u231a\"\n",
        "        u\"\\ufe0f\"\n",
        "        u\"\\u3030\"\n",
        "                      \"]+\", re.UNICODE)\n",
        "\n",
        "regexPuct = r\"[\\s\\w\\d]\""
      ],
      "metadata": {
        "execution": {
          "iopub.status.busy": "2023-10-25T01:00:08.224381Z",
          "iopub.execute_input": "2023-10-25T01:00:08.225231Z",
          "iopub.status.idle": "2023-10-25T01:00:08.236302Z",
          "shell.execute_reply.started": "2023-10-25T01:00:08.225201Z",
          "shell.execute_reply": "2023-10-25T01:00:08.235318Z"
        },
        "trusted": true,
        "id": "VCfmPJxsPZWC"
      },
      "execution_count": null,
      "outputs": []
    },
    {
      "cell_type": "code",
      "source": [
        "for index, word_list in enumerate(reviewList):\n",
        "    reviewList[index] = re.sub(emoji_pattern, r'', word_list)\n",
        "    reviewList[index] = \"\".join(re.findall(regexPuct, reviewList[index], re.MULTILINE))\n",
        "    reviewList[index] = \" \".join(reviewList[index].split())"
      ],
      "metadata": {
        "execution": {
          "iopub.status.busy": "2023-10-25T01:00:08.237609Z",
          "iopub.execute_input": "2023-10-25T01:00:08.237976Z",
          "iopub.status.idle": "2023-10-25T01:00:08.943936Z",
          "shell.execute_reply.started": "2023-10-25T01:00:08.237935Z",
          "shell.execute_reply": "2023-10-25T01:00:08.943037Z"
        },
        "trusted": true,
        "id": "CzniHSsjPZWC"
      },
      "execution_count": null,
      "outputs": []
    },
    {
      "cell_type": "code",
      "source": [
        "df[\"Review\"] = reviewList"
      ],
      "metadata": {
        "execution": {
          "iopub.status.busy": "2023-10-25T01:00:08.945474Z",
          "iopub.execute_input": "2023-10-25T01:00:08.946358Z",
          "iopub.status.idle": "2023-10-25T01:00:08.953499Z",
          "shell.execute_reply.started": "2023-10-25T01:00:08.946321Z",
          "shell.execute_reply": "2023-10-25T01:00:08.952722Z"
        },
        "trusted": true,
        "id": "TNQMKyCePZWD"
      },
      "execution_count": null,
      "outputs": []
    },
    {
      "cell_type": "code",
      "source": [
        "df.head()"
      ],
      "metadata": {
        "execution": {
          "iopub.status.busy": "2023-10-25T01:00:08.954867Z",
          "iopub.execute_input": "2023-10-25T01:00:08.955165Z",
          "iopub.status.idle": "2023-10-25T01:00:08.969864Z",
          "shell.execute_reply.started": "2023-10-25T01:00:08.955138Z",
          "shell.execute_reply": "2023-10-25T01:00:08.968854Z"
        },
        "trusted": true,
        "id": "Zzm38g1nPZWD",
        "outputId": "b8379c83-6330-49d0-9dcd-07db11c540c3"
      },
      "execution_count": null,
      "outputs": [
        {
          "execution_count": 25,
          "output_type": "execute_result",
          "data": {
            "text/plain": "                                              Review  Rating  Time\n0  the ambienc good food quit good saturday lunch...    True   1.0\n1  ambienc good pleasant even servic prompt food ...    True   1.0\n2  A must try great food great ambienc thnx servi...    True   1.0\n3  soumen da arun great guy onli behavior sincere...    True   1.0\n4  food goodw order kodi drumstick basket mutton ...    True   1.0",
            "text/html": "<div>\n<style scoped>\n    .dataframe tbody tr th:only-of-type {\n        vertical-align: middle;\n    }\n\n    .dataframe tbody tr th {\n        vertical-align: top;\n    }\n\n    .dataframe thead th {\n        text-align: right;\n    }\n</style>\n<table border=\"1\" class=\"dataframe\">\n  <thead>\n    <tr style=\"text-align: right;\">\n      <th></th>\n      <th>Review</th>\n      <th>Rating</th>\n      <th>Time</th>\n    </tr>\n  </thead>\n  <tbody>\n    <tr>\n      <th>0</th>\n      <td>the ambienc good food quit good saturday lunch...</td>\n      <td>True</td>\n      <td>1.0</td>\n    </tr>\n    <tr>\n      <th>1</th>\n      <td>ambienc good pleasant even servic prompt food ...</td>\n      <td>True</td>\n      <td>1.0</td>\n    </tr>\n    <tr>\n      <th>2</th>\n      <td>A must try great food great ambienc thnx servi...</td>\n      <td>True</td>\n      <td>1.0</td>\n    </tr>\n    <tr>\n      <th>3</th>\n      <td>soumen da arun great guy onli behavior sincere...</td>\n      <td>True</td>\n      <td>1.0</td>\n    </tr>\n    <tr>\n      <th>4</th>\n      <td>food goodw order kodi drumstick basket mutton ...</td>\n      <td>True</td>\n      <td>1.0</td>\n    </tr>\n  </tbody>\n</table>\n</div>"
          },
          "metadata": {}
        }
      ]
    },
    {
      "cell_type": "markdown",
      "source": [
        "# Separating Data"
      ],
      "metadata": {
        "id": "_xyajMPiPZWE"
      }
    },
    {
      "cell_type": "code",
      "source": [
        "X = df[\"Review\"]\n",
        "y = df[\"Rating\"]\n",
        "\n",
        "X_train, X_test, y_train, y_test = train_test_split(X, y, test_size=0.2, random_state=42)"
      ],
      "metadata": {
        "execution": {
          "iopub.status.busy": "2023-10-25T01:00:08.971168Z",
          "iopub.execute_input": "2023-10-25T01:00:08.971517Z",
          "iopub.status.idle": "2023-10-25T01:00:08.981043Z",
          "shell.execute_reply.started": "2023-10-25T01:00:08.971492Z",
          "shell.execute_reply": "2023-10-25T01:00:08.980151Z"
        },
        "trusted": true,
        "id": "aWZCCy6GPZWE"
      },
      "execution_count": null,
      "outputs": []
    },
    {
      "cell_type": "code",
      "source": [
        "X_train.iloc[0]"
      ],
      "metadata": {
        "execution": {
          "iopub.status.busy": "2023-10-25T01:00:08.982168Z",
          "iopub.execute_input": "2023-10-25T01:00:08.982438Z",
          "iopub.status.idle": "2023-10-25T01:00:08.992917Z",
          "shell.execute_reply.started": "2023-10-25T01:00:08.982414Z",
          "shell.execute_reply": "2023-10-25T01:00:08.991912Z"
        },
        "trusted": true,
        "id": "gcxVuciCPZWE",
        "outputId": "d4fd7b9a-f557-4852-c537-d8e3516c1fd3"
      },
      "execution_count": null,
      "outputs": [
        {
          "execution_count": 27,
          "output_type": "execute_result",
          "data": {
            "text/plain": "'went dinner buffet famili gather food averag price paymost item avail buffet menu serv tabl lot delay'"
          },
          "metadata": {}
        }
      ]
    },
    {
      "cell_type": "markdown",
      "source": [
        "# Models"
      ],
      "metadata": {
        "id": "5B4Z86YXPZWF"
      }
    },
    {
      "cell_type": "code",
      "source": [
        "from sklearn.pipeline import Pipeline\n",
        "from sklearn.feature_extraction.text import TfidfVectorizer\n",
        "from sklearn.svm import SVC\n",
        "\n",
        "pipeline = Pipeline([\n",
        "    ('vectorizer', TfidfVectorizer(ngram_range=(1,3))),\n",
        "    ('classifier', SVC())\n",
        "])\n",
        "\n",
        "pipeline.fit(X_train, y_train)\n",
        "pipeline.score(X_test, y_test)"
      ],
      "metadata": {
        "execution": {
          "iopub.status.busy": "2023-10-25T01:00:08.998226Z",
          "iopub.execute_input": "2023-10-25T01:00:08.998547Z",
          "iopub.status.idle": "2023-10-25T01:00:46.030501Z",
          "shell.execute_reply.started": "2023-10-25T01:00:08.998521Z",
          "shell.execute_reply": "2023-10-25T01:00:46.029295Z"
        },
        "trusted": true,
        "id": "sPqUL-V1PZWF",
        "outputId": "5490d1ea-e07e-42d7-f75c-32221dda7efe"
      },
      "execution_count": null,
      "outputs": [
        {
          "execution_count": 28,
          "output_type": "execute_result",
          "data": {
            "text/plain": "0.915"
          },
          "metadata": {}
        }
      ]
    },
    {
      "cell_type": "markdown",
      "source": [
        "# Testing Model"
      ],
      "metadata": {
        "id": "v6ayNic4PZWF"
      }
    },
    {
      "cell_type": "code",
      "source": [
        "positive_sentence = \"I absolutely love this product! It has exceeded all my expectations. It's well-designed, durable, and incredibly useful. I can't imagine my life without it now. I would highly recommend it to anyone looking for a high-quality, reliable product\"\n",
        "negative_sentence = \"I bought this product, and it was a complete waste of money. It stopped working after just a week, and the customer service was unhelpful and rude. I will never purchase anything from this company again.\""
      ],
      "metadata": {
        "execution": {
          "iopub.status.busy": "2023-10-25T01:11:08.566651Z",
          "iopub.execute_input": "2023-10-25T01:11:08.567065Z",
          "iopub.status.idle": "2023-10-25T01:11:08.573185Z",
          "shell.execute_reply.started": "2023-10-25T01:11:08.567036Z",
          "shell.execute_reply": "2023-10-25T01:11:08.571854Z"
        },
        "trusted": true,
        "id": "Lb4L81-9PZWG"
      },
      "execution_count": null,
      "outputs": []
    },
    {
      "cell_type": "code",
      "source": [
        "pipeline.predict([positive_sentence, negative_sentence])"
      ],
      "metadata": {
        "execution": {
          "iopub.status.busy": "2023-10-25T01:11:08.807788Z",
          "iopub.execute_input": "2023-10-25T01:11:08.809030Z",
          "iopub.status.idle": "2023-10-25T01:11:08.833062Z",
          "shell.execute_reply.started": "2023-10-25T01:11:08.808973Z",
          "shell.execute_reply": "2023-10-25T01:11:08.831817Z"
        },
        "trusted": true,
        "id": "ICjl5hnIPZWG",
        "outputId": "f860fe29-52aa-40a9-8572-8a6647a5d846"
      },
      "execution_count": null,
      "outputs": [
        {
          "execution_count": 37,
          "output_type": "execute_result",
          "data": {
            "text/plain": "array([ True, False])"
          },
          "metadata": {}
        }
      ]
    },
    {
      "cell_type": "code",
      "source": [
        "def preprocess(text):\n",
        "    text = word_tokenize(text)\n",
        "    text = \" \".join([ps.stem(str(word)) for word in text if not word in stopwords.words(\"english\") and word not in [\".\", \",\", \"?\", \"@\", \"$\", \"/\"] and not word.isspace()])\n",
        "    text = re.sub(emoji_pattern, r'', text)\n",
        "    text = \"\".join(re.findall(regexPuct, text, re.MULTILINE))\n",
        "    text = \" \".join(text.split())\n",
        "\n",
        "    return text"
      ],
      "metadata": {
        "execution": {
          "iopub.status.busy": "2023-10-25T01:11:09.655470Z",
          "iopub.execute_input": "2023-10-25T01:11:09.656739Z",
          "iopub.status.idle": "2023-10-25T01:11:09.665653Z",
          "shell.execute_reply.started": "2023-10-25T01:11:09.656672Z",
          "shell.execute_reply": "2023-10-25T01:11:09.664257Z"
        },
        "trusted": true,
        "id": "6swNZb3hPZWG"
      },
      "execution_count": null,
      "outputs": []
    },
    {
      "cell_type": "code",
      "source": [
        "positive_sentence = preprocess(positive_sentence)\n",
        "negative_sentence = preprocess(negative_sentence)"
      ],
      "metadata": {
        "execution": {
          "iopub.status.busy": "2023-10-25T01:11:11.114099Z",
          "iopub.execute_input": "2023-10-25T01:11:11.114630Z",
          "iopub.status.idle": "2023-10-25T01:11:11.140819Z",
          "shell.execute_reply.started": "2023-10-25T01:11:11.114583Z",
          "shell.execute_reply": "2023-10-25T01:11:11.139496Z"
        },
        "trusted": true,
        "id": "KqDsQnmEPZWG"
      },
      "execution_count": null,
      "outputs": []
    },
    {
      "cell_type": "code",
      "source": [
        "positive_sentence"
      ],
      "metadata": {
        "execution": {
          "iopub.status.busy": "2023-10-25T01:11:11.840520Z",
          "iopub.execute_input": "2023-10-25T01:11:11.841215Z",
          "iopub.status.idle": "2023-10-25T01:11:11.849136Z",
          "shell.execute_reply.started": "2023-10-25T01:11:11.841161Z",
          "shell.execute_reply": "2023-10-25T01:11:11.847347Z"
        },
        "trusted": true,
        "id": "PV3W0crlPZWH",
        "outputId": "812b678e-dde0-4c67-85d0-16808e4b2488"
      },
      "execution_count": null,
      "outputs": [
        {
          "execution_count": 40,
          "output_type": "execute_result",
          "data": {
            "text/plain": "'I absolut love product It exceed expect It s welldesign durabl incred use I ca nt imagin life without I would highli recommend anyon look highqual reliabl product'"
          },
          "metadata": {}
        }
      ]
    },
    {
      "cell_type": "code",
      "source": [
        "negative_sentence"
      ],
      "metadata": {
        "execution": {
          "iopub.status.busy": "2023-10-25T01:11:14.157230Z",
          "iopub.execute_input": "2023-10-25T01:11:14.158090Z",
          "iopub.status.idle": "2023-10-25T01:11:14.165694Z",
          "shell.execute_reply.started": "2023-10-25T01:11:14.158054Z",
          "shell.execute_reply": "2023-10-25T01:11:14.164552Z"
        },
        "trusted": true,
        "id": "y9RXc_5PPZWH",
        "outputId": "5c9cb2c4-2fca-4f99-eda6-583598cdaf51"
      },
      "execution_count": null,
      "outputs": [
        {
          "execution_count": 41,
          "output_type": "execute_result",
          "data": {
            "text/plain": "'I bought product complet wast money It stop work week custom servic unhelp rude I never purchas anyth compani'"
          },
          "metadata": {}
        }
      ]
    },
    {
      "cell_type": "code",
      "source": [
        "pipeline.predict([positive_sentence, negative_sentence])"
      ],
      "metadata": {
        "execution": {
          "iopub.status.busy": "2023-10-25T01:11:42.608300Z",
          "iopub.execute_input": "2023-10-25T01:11:42.608732Z",
          "iopub.status.idle": "2023-10-25T01:11:42.630273Z",
          "shell.execute_reply.started": "2023-10-25T01:11:42.608681Z",
          "shell.execute_reply": "2023-10-25T01:11:42.629383Z"
        },
        "trusted": true,
        "id": "gjUR_Vu7PZWf",
        "outputId": "291d931b-5c77-4d5e-f2ff-b82dd93ef7ce"
      },
      "execution_count": null,
      "outputs": [
        {
          "execution_count": 42,
          "output_type": "execute_result",
          "data": {
            "text/plain": "array([ True, False])"
          },
          "metadata": {}
        }
      ]
    }
  ]
}